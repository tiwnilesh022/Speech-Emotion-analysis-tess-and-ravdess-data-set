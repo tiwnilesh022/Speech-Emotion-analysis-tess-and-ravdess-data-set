{
 "cells": [
  {
   "cell_type": "code",
   "execution_count": 1,
   "metadata": {},
   "outputs": [],
   "source": [
    "import pandas as pd\n",
    "import numpy as np\n",
    "\n",
    "import os\n",
    "import sys\n",
    "\n",
    "# librosa is a Python library for analyzing audio and music. It can be used to extract the data from the audio files we will see it later.\n",
    "import librosa\n",
    "import librosa.display\n",
    "import seaborn as sns\n",
    "import matplotlib.pyplot as plt\n",
    "\n",
    "from sklearn.preprocessing import StandardScaler, OneHotEncoder\n",
    "from sklearn.metrics import confusion_matrix, classification_report\n",
    "from sklearn.model_selection import train_test_split\n",
    "\n",
    "# to play the audio files\n",
    "from IPython.display import Audio\n",
    "\n",
    "import keras\n",
    "from keras.callbacks import ReduceLROnPlateau\n",
    "from keras.models import Sequential\n",
    "from keras.layers import Dense, Conv1D, MaxPooling1D, Flatten, Dropout, BatchNormalization\n",
    "from keras.utils import np_utils, to_categorical\n",
    "from keras.callbacks import ModelCheckpoint\n",
    "\n",
    "import warnings\n",
    "if not sys.warnoptions:\n",
    "    warnings.simplefilter(\"ignore\")\n",
    "warnings.filterwarnings(\"ignore\", category=DeprecationWarning) "
   ]
  },
  {
   "cell_type": "code",
   "execution_count": 2,
   "metadata": {},
   "outputs": [],
   "source": [
    "def extract_features(data):\n",
    "    # ZCR\n",
    "    result = np.array([])\n",
    "    zcr = np.mean(librosa.feature.zero_crossing_rate(y=data).T, axis=0)\n",
    "    result=np.hstack((result, zcr)) # stacking horizontally\n",
    "\n",
    "    # Chroma_stft\n",
    "    stft = np.abs(librosa.stft(data))\n",
    "    chroma_stft = np.mean(librosa.feature.chroma_stft(S=stft, sr=sample_rate).T, axis=0)\n",
    "    result = np.hstack((result, chroma_stft)) # stacking horizontally\n",
    "\n",
    "    # MFCC\n",
    "    mfcc = np.mean(librosa.feature.mfcc(y=data, sr=sample_rate).T, axis=0)\n",
    "    result = np.hstack((result, mfcc)) # stacking horizontally\n",
    "\n",
    "    # Root Mean Square Value\n",
    "    rms = np.mean(librosa.feature.rms(y=data).T, axis=0)\n",
    "    result = np.hstack((result, rms)) # stacking horizontally\n",
    "\n",
    "    # MelSpectogram\n",
    "    mel = np.mean(librosa.feature.melspectrogram(y=data, sr=sample_rate).T, axis=0)\n",
    "    result = np.hstack((result, mel)) # stacking horizontally\n",
    "    \n",
    "    return result\n",
    "\n",
    "def get_features(path):\n",
    "    # duration and offset are used to take care of the no audio in start and the ending of each audio files as seen above.\n",
    "    data, sample_rate = librosa.load(path, duration=2.5, offset=0.6)\n",
    "    \n",
    "    # without augmentation\n",
    "    res1 = extract_features(data)\n",
    "    result = np.array(res1)\n",
    "    \n",
    "    # data with noise\n",
    "    noise_data = noise(data)\n",
    "    res2 = extract_features(noise_data)\n",
    "    result = np.vstack((result, res2)) # stacking vertically\n",
    "    \n",
    "    # data with stretching and pitching\n",
    "    new_data = stretch(data)\n",
    "    data_stretch_pitch = pitch(new_data, sample_rate)\n",
    "    res3 = extract_features(data_stretch_pitch)\n",
    "    result = np.vstack((result, res3)) # stacking vertically\n",
    "    \n",
    "    return result"
   ]
  },
  {
   "cell_type": "code",
   "execution_count": 3,
   "metadata": {},
   "outputs": [
    {
     "data": {
      "text/html": [
       "<div>\n",
       "<style scoped>\n",
       "    .dataframe tbody tr th:only-of-type {\n",
       "        vertical-align: middle;\n",
       "    }\n",
       "\n",
       "    .dataframe tbody tr th {\n",
       "        vertical-align: top;\n",
       "    }\n",
       "\n",
       "    .dataframe thead th {\n",
       "        text-align: right;\n",
       "    }\n",
       "</style>\n",
       "<table border=\"1\" class=\"dataframe\">\n",
       "  <thead>\n",
       "    <tr style=\"text-align: right;\">\n",
       "      <th></th>\n",
       "      <th>0</th>\n",
       "      <th>1</th>\n",
       "      <th>2</th>\n",
       "      <th>3</th>\n",
       "      <th>4</th>\n",
       "      <th>5</th>\n",
       "      <th>6</th>\n",
       "      <th>7</th>\n",
       "      <th>8</th>\n",
       "      <th>9</th>\n",
       "      <th>...</th>\n",
       "      <th>153</th>\n",
       "      <th>154</th>\n",
       "      <th>155</th>\n",
       "      <th>156</th>\n",
       "      <th>157</th>\n",
       "      <th>158</th>\n",
       "      <th>159</th>\n",
       "      <th>160</th>\n",
       "      <th>161</th>\n",
       "      <th>labels</th>\n",
       "    </tr>\n",
       "  </thead>\n",
       "  <tbody>\n",
       "    <tr>\n",
       "      <th>0</th>\n",
       "      <td>0.300781</td>\n",
       "      <td>0.706492</td>\n",
       "      <td>0.756853</td>\n",
       "      <td>0.735217</td>\n",
       "      <td>0.731014</td>\n",
       "      <td>0.715156</td>\n",
       "      <td>0.667529</td>\n",
       "      <td>0.673754</td>\n",
       "      <td>0.722173</td>\n",
       "      <td>0.748969</td>\n",
       "      <td>...</td>\n",
       "      <td>4.319263e-06</td>\n",
       "      <td>0.000003</td>\n",
       "      <td>0.000002</td>\n",
       "      <td>2.286677e-06</td>\n",
       "      <td>5.131694e-06</td>\n",
       "      <td>8.065748e-06</td>\n",
       "      <td>0.000005</td>\n",
       "      <td>2.270858e-06</td>\n",
       "      <td>1.642365e-07</td>\n",
       "      <td>neutral</td>\n",
       "    </tr>\n",
       "    <tr>\n",
       "      <th>1</th>\n",
       "      <td>0.313825</td>\n",
       "      <td>0.778948</td>\n",
       "      <td>0.819544</td>\n",
       "      <td>0.798489</td>\n",
       "      <td>0.809550</td>\n",
       "      <td>0.817168</td>\n",
       "      <td>0.714585</td>\n",
       "      <td>0.684880</td>\n",
       "      <td>0.729729</td>\n",
       "      <td>0.764166</td>\n",
       "      <td>...</td>\n",
       "      <td>4.554279e-05</td>\n",
       "      <td>0.000044</td>\n",
       "      <td>0.000045</td>\n",
       "      <td>4.419856e-05</td>\n",
       "      <td>4.638837e-05</td>\n",
       "      <td>4.941625e-05</td>\n",
       "      <td>0.000049</td>\n",
       "      <td>4.440693e-05</td>\n",
       "      <td>4.473549e-05</td>\n",
       "      <td>neutral</td>\n",
       "    </tr>\n",
       "    <tr>\n",
       "      <th>2</th>\n",
       "      <td>0.176693</td>\n",
       "      <td>0.640605</td>\n",
       "      <td>0.712837</td>\n",
       "      <td>0.743736</td>\n",
       "      <td>0.714797</td>\n",
       "      <td>0.701402</td>\n",
       "      <td>0.694569</td>\n",
       "      <td>0.663853</td>\n",
       "      <td>0.688527</td>\n",
       "      <td>0.742508</td>\n",
       "      <td>...</td>\n",
       "      <td>7.999367e-07</td>\n",
       "      <td>0.000001</td>\n",
       "      <td>0.000001</td>\n",
       "      <td>5.350822e-07</td>\n",
       "      <td>3.480662e-07</td>\n",
       "      <td>8.398366e-07</td>\n",
       "      <td>0.000001</td>\n",
       "      <td>4.287777e-07</td>\n",
       "      <td>2.878995e-08</td>\n",
       "      <td>neutral</td>\n",
       "    </tr>\n",
       "    <tr>\n",
       "      <th>3</th>\n",
       "      <td>0.271272</td>\n",
       "      <td>0.674966</td>\n",
       "      <td>0.723259</td>\n",
       "      <td>0.724594</td>\n",
       "      <td>0.681302</td>\n",
       "      <td>0.670643</td>\n",
       "      <td>0.674574</td>\n",
       "      <td>0.630036</td>\n",
       "      <td>0.680146</td>\n",
       "      <td>0.708276</td>\n",
       "      <td>...</td>\n",
       "      <td>6.998011e-06</td>\n",
       "      <td>0.000007</td>\n",
       "      <td>0.000007</td>\n",
       "      <td>6.999257e-06</td>\n",
       "      <td>1.217880e-05</td>\n",
       "      <td>9.449916e-06</td>\n",
       "      <td>0.000008</td>\n",
       "      <td>2.638513e-06</td>\n",
       "      <td>1.788902e-07</td>\n",
       "      <td>neutral</td>\n",
       "    </tr>\n",
       "    <tr>\n",
       "      <th>4</th>\n",
       "      <td>0.281146</td>\n",
       "      <td>0.753292</td>\n",
       "      <td>0.786662</td>\n",
       "      <td>0.758819</td>\n",
       "      <td>0.746537</td>\n",
       "      <td>0.757187</td>\n",
       "      <td>0.689647</td>\n",
       "      <td>0.641518</td>\n",
       "      <td>0.696482</td>\n",
       "      <td>0.726075</td>\n",
       "      <td>...</td>\n",
       "      <td>1.357192e-05</td>\n",
       "      <td>0.000014</td>\n",
       "      <td>0.000014</td>\n",
       "      <td>1.464036e-05</td>\n",
       "      <td>1.883595e-05</td>\n",
       "      <td>1.696650e-05</td>\n",
       "      <td>0.000016</td>\n",
       "      <td>9.794435e-06</td>\n",
       "      <td>7.203743e-06</td>\n",
       "      <td>neutral</td>\n",
       "    </tr>\n",
       "    <tr>\n",
       "      <th>...</th>\n",
       "      <td>...</td>\n",
       "      <td>...</td>\n",
       "      <td>...</td>\n",
       "      <td>...</td>\n",
       "      <td>...</td>\n",
       "      <td>...</td>\n",
       "      <td>...</td>\n",
       "      <td>...</td>\n",
       "      <td>...</td>\n",
       "      <td>...</td>\n",
       "      <td>...</td>\n",
       "      <td>...</td>\n",
       "      <td>...</td>\n",
       "      <td>...</td>\n",
       "      <td>...</td>\n",
       "      <td>...</td>\n",
       "      <td>...</td>\n",
       "      <td>...</td>\n",
       "      <td>...</td>\n",
       "      <td>...</td>\n",
       "      <td>...</td>\n",
       "    </tr>\n",
       "    <tr>\n",
       "      <th>15751</th>\n",
       "      <td>0.056647</td>\n",
       "      <td>0.400899</td>\n",
       "      <td>0.363842</td>\n",
       "      <td>0.288446</td>\n",
       "      <td>0.316558</td>\n",
       "      <td>0.318172</td>\n",
       "      <td>0.413583</td>\n",
       "      <td>0.493970</td>\n",
       "      <td>0.453717</td>\n",
       "      <td>0.563200</td>\n",
       "      <td>...</td>\n",
       "      <td>4.161627e-05</td>\n",
       "      <td>0.000043</td>\n",
       "      <td>0.000068</td>\n",
       "      <td>6.600720e-05</td>\n",
       "      <td>8.382198e-05</td>\n",
       "      <td>5.549716e-05</td>\n",
       "      <td>0.000031</td>\n",
       "      <td>1.663076e-05</td>\n",
       "      <td>1.228124e-05</td>\n",
       "      <td>sad</td>\n",
       "    </tr>\n",
       "    <tr>\n",
       "      <th>15752</th>\n",
       "      <td>0.043530</td>\n",
       "      <td>0.305641</td>\n",
       "      <td>0.400549</td>\n",
       "      <td>0.326697</td>\n",
       "      <td>0.252641</td>\n",
       "      <td>0.296804</td>\n",
       "      <td>0.285628</td>\n",
       "      <td>0.434680</td>\n",
       "      <td>0.470216</td>\n",
       "      <td>0.430742</td>\n",
       "      <td>...</td>\n",
       "      <td>1.236520e-05</td>\n",
       "      <td>0.000010</td>\n",
       "      <td>0.000011</td>\n",
       "      <td>1.594945e-05</td>\n",
       "      <td>2.725638e-05</td>\n",
       "      <td>2.512380e-05</td>\n",
       "      <td>0.000019</td>\n",
       "      <td>6.173988e-06</td>\n",
       "      <td>3.485156e-06</td>\n",
       "      <td>sad</td>\n",
       "    </tr>\n",
       "    <tr>\n",
       "      <th>15753</th>\n",
       "      <td>0.082564</td>\n",
       "      <td>0.429035</td>\n",
       "      <td>0.467454</td>\n",
       "      <td>0.366867</td>\n",
       "      <td>0.379050</td>\n",
       "      <td>0.359398</td>\n",
       "      <td>0.427272</td>\n",
       "      <td>0.481370</td>\n",
       "      <td>0.480836</td>\n",
       "      <td>0.592812</td>\n",
       "      <td>...</td>\n",
       "      <td>1.479005e-04</td>\n",
       "      <td>0.000162</td>\n",
       "      <td>0.000151</td>\n",
       "      <td>1.814116e-04</td>\n",
       "      <td>1.816919e-04</td>\n",
       "      <td>1.122789e-04</td>\n",
       "      <td>0.000074</td>\n",
       "      <td>2.171396e-05</td>\n",
       "      <td>2.901469e-06</td>\n",
       "      <td>sad</td>\n",
       "    </tr>\n",
       "    <tr>\n",
       "      <th>15754</th>\n",
       "      <td>0.129566</td>\n",
       "      <td>0.461756</td>\n",
       "      <td>0.522920</td>\n",
       "      <td>0.450084</td>\n",
       "      <td>0.442755</td>\n",
       "      <td>0.436089</td>\n",
       "      <td>0.485292</td>\n",
       "      <td>0.525965</td>\n",
       "      <td>0.505999</td>\n",
       "      <td>0.619472</td>\n",
       "      <td>...</td>\n",
       "      <td>4.522038e-04</td>\n",
       "      <td>0.000443</td>\n",
       "      <td>0.000442</td>\n",
       "      <td>4.899041e-04</td>\n",
       "      <td>4.912984e-04</td>\n",
       "      <td>3.930559e-04</td>\n",
       "      <td>0.000369</td>\n",
       "      <td>3.202054e-04</td>\n",
       "      <td>3.115559e-04</td>\n",
       "      <td>sad</td>\n",
       "    </tr>\n",
       "    <tr>\n",
       "      <th>15755</th>\n",
       "      <td>0.090739</td>\n",
       "      <td>0.339112</td>\n",
       "      <td>0.457807</td>\n",
       "      <td>0.463234</td>\n",
       "      <td>0.356358</td>\n",
       "      <td>0.367650</td>\n",
       "      <td>0.331090</td>\n",
       "      <td>0.440740</td>\n",
       "      <td>0.462840</td>\n",
       "      <td>0.511021</td>\n",
       "      <td>...</td>\n",
       "      <td>4.542486e-05</td>\n",
       "      <td>0.000038</td>\n",
       "      <td>0.000037</td>\n",
       "      <td>3.989864e-05</td>\n",
       "      <td>4.054355e-05</td>\n",
       "      <td>5.101541e-05</td>\n",
       "      <td>0.000026</td>\n",
       "      <td>7.535169e-06</td>\n",
       "      <td>1.932726e-06</td>\n",
       "      <td>sad</td>\n",
       "    </tr>\n",
       "  </tbody>\n",
       "</table>\n",
       "<p>15756 rows × 163 columns</p>\n",
       "</div>"
      ],
      "text/plain": [
       "              0         1         2         3         4         5         6  \\\n",
       "0      0.300781  0.706492  0.756853  0.735217  0.731014  0.715156  0.667529   \n",
       "1      0.313825  0.778948  0.819544  0.798489  0.809550  0.817168  0.714585   \n",
       "2      0.176693  0.640605  0.712837  0.743736  0.714797  0.701402  0.694569   \n",
       "3      0.271272  0.674966  0.723259  0.724594  0.681302  0.670643  0.674574   \n",
       "4      0.281146  0.753292  0.786662  0.758819  0.746537  0.757187  0.689647   \n",
       "...         ...       ...       ...       ...       ...       ...       ...   \n",
       "15751  0.056647  0.400899  0.363842  0.288446  0.316558  0.318172  0.413583   \n",
       "15752  0.043530  0.305641  0.400549  0.326697  0.252641  0.296804  0.285628   \n",
       "15753  0.082564  0.429035  0.467454  0.366867  0.379050  0.359398  0.427272   \n",
       "15754  0.129566  0.461756  0.522920  0.450084  0.442755  0.436089  0.485292   \n",
       "15755  0.090739  0.339112  0.457807  0.463234  0.356358  0.367650  0.331090   \n",
       "\n",
       "              7         8         9  ...           153       154       155  \\\n",
       "0      0.673754  0.722173  0.748969  ...  4.319263e-06  0.000003  0.000002   \n",
       "1      0.684880  0.729729  0.764166  ...  4.554279e-05  0.000044  0.000045   \n",
       "2      0.663853  0.688527  0.742508  ...  7.999367e-07  0.000001  0.000001   \n",
       "3      0.630036  0.680146  0.708276  ...  6.998011e-06  0.000007  0.000007   \n",
       "4      0.641518  0.696482  0.726075  ...  1.357192e-05  0.000014  0.000014   \n",
       "...         ...       ...       ...  ...           ...       ...       ...   \n",
       "15751  0.493970  0.453717  0.563200  ...  4.161627e-05  0.000043  0.000068   \n",
       "15752  0.434680  0.470216  0.430742  ...  1.236520e-05  0.000010  0.000011   \n",
       "15753  0.481370  0.480836  0.592812  ...  1.479005e-04  0.000162  0.000151   \n",
       "15754  0.525965  0.505999  0.619472  ...  4.522038e-04  0.000443  0.000442   \n",
       "15755  0.440740  0.462840  0.511021  ...  4.542486e-05  0.000038  0.000037   \n",
       "\n",
       "                156           157           158       159           160  \\\n",
       "0      2.286677e-06  5.131694e-06  8.065748e-06  0.000005  2.270858e-06   \n",
       "1      4.419856e-05  4.638837e-05  4.941625e-05  0.000049  4.440693e-05   \n",
       "2      5.350822e-07  3.480662e-07  8.398366e-07  0.000001  4.287777e-07   \n",
       "3      6.999257e-06  1.217880e-05  9.449916e-06  0.000008  2.638513e-06   \n",
       "4      1.464036e-05  1.883595e-05  1.696650e-05  0.000016  9.794435e-06   \n",
       "...             ...           ...           ...       ...           ...   \n",
       "15751  6.600720e-05  8.382198e-05  5.549716e-05  0.000031  1.663076e-05   \n",
       "15752  1.594945e-05  2.725638e-05  2.512380e-05  0.000019  6.173988e-06   \n",
       "15753  1.814116e-04  1.816919e-04  1.122789e-04  0.000074  2.171396e-05   \n",
       "15754  4.899041e-04  4.912984e-04  3.930559e-04  0.000369  3.202054e-04   \n",
       "15755  3.989864e-05  4.054355e-05  5.101541e-05  0.000026  7.535169e-06   \n",
       "\n",
       "                161   labels  \n",
       "0      1.642365e-07  neutral  \n",
       "1      4.473549e-05  neutral  \n",
       "2      2.878995e-08  neutral  \n",
       "3      1.788902e-07  neutral  \n",
       "4      7.203743e-06  neutral  \n",
       "...             ...      ...  \n",
       "15751  1.228124e-05      sad  \n",
       "15752  3.485156e-06      sad  \n",
       "15753  2.901469e-06      sad  \n",
       "15754  3.115559e-04      sad  \n",
       "15755  1.932726e-06      sad  \n",
       "\n",
       "[15756 rows x 163 columns]"
      ]
     },
     "execution_count": 3,
     "metadata": {},
     "output_type": "execute_result"
    }
   ],
   "source": [
    "Features = pd.read_csv(\"feature.csv\") \n",
    "Features.head()\n",
    "Features"
   ]
  },
  {
   "cell_type": "markdown",
   "metadata": {},
   "source": [
    "### Data Preparation ###"
   ]
  },
  {
   "cell_type": "code",
   "execution_count": 4,
   "metadata": {},
   "outputs": [],
   "source": [
    "X = Features.iloc[: ,:-1].values\n",
    "Y = Features['labels'].values"
   ]
  },
  {
   "cell_type": "code",
   "execution_count": 5,
   "metadata": {},
   "outputs": [
    {
     "data": {
      "text/plain": [
       "array([[0., 0., 0., ..., 1., 0., 0.],\n",
       "       [0., 0., 0., ..., 1., 0., 0.],\n",
       "       [0., 0., 0., ..., 1., 0., 0.],\n",
       "       ...,\n",
       "       [0., 0., 0., ..., 0., 1., 0.],\n",
       "       [0., 0., 0., ..., 0., 1., 0.],\n",
       "       [0., 0., 0., ..., 0., 1., 0.]])"
      ]
     },
     "execution_count": 5,
     "metadata": {},
     "output_type": "execute_result"
    }
   ],
   "source": [
    "# As this is a multiclass classification problem onehotencoding our Y.\n",
    "encoder = OneHotEncoder()\n",
    "Y = encoder.fit_transform(np.array(Y).reshape(-1,1)).toarray()\n",
    "Y"
   ]
  },
  {
   "cell_type": "code",
   "execution_count": 6,
   "metadata": {},
   "outputs": [
    {
     "data": {
      "text/plain": [
       "((11817, 162), (11817, 8), (3939, 162), (3939, 8))"
      ]
     },
     "execution_count": 6,
     "metadata": {},
     "output_type": "execute_result"
    }
   ],
   "source": [
    "# splitting data\n",
    "x_train, x_test, y_train, y_test = train_test_split(X, Y, random_state=0, shuffle=True)\n",
    "x_train.shape, y_train.shape, x_test.shape, y_test.shape"
   ]
  },
  {
   "cell_type": "code",
   "execution_count": 7,
   "metadata": {},
   "outputs": [
    {
     "data": {
      "text/plain": [
       "((11817, 162), (11817, 8), (3939, 162), (3939, 8))"
      ]
     },
     "execution_count": 7,
     "metadata": {},
     "output_type": "execute_result"
    }
   ],
   "source": [
    "# scaling our data with sklearn's Standard scaler\n",
    "scaler = StandardScaler()\n",
    "x_train = scaler.fit_transform(x_train)\n",
    "x_test = scaler.transform(x_test)\n",
    "x_train.shape, y_train.shape, x_test.shape, y_test.shape"
   ]
  },
  {
   "cell_type": "code",
   "execution_count": 8,
   "metadata": {},
   "outputs": [
    {
     "data": {
      "text/plain": [
       "((11817, 162, 1), (11817, 8), (3939, 162, 1), (3939, 8))"
      ]
     },
     "execution_count": 8,
     "metadata": {},
     "output_type": "execute_result"
    }
   ],
   "source": [
    "# making our data compatible to model.\n",
    "x_train = np.expand_dims(x_train, axis=2)\n",
    "x_test = np.expand_dims(x_test, axis=2)\n",
    "x_train.shape, y_train.shape, x_test.shape, y_test.shape"
   ]
  },
  {
   "cell_type": "code",
   "execution_count": 9,
   "metadata": {},
   "outputs": [],
   "source": [
    "import tensorflow as tf"
   ]
  },
  {
   "cell_type": "code",
   "execution_count": 10,
   "metadata": {
    "scrolled": true
   },
   "outputs": [],
   "source": [
    "new_model = tf.keras.models.load_model('CNN_model.h5')"
   ]
  },
  {
   "cell_type": "code",
   "execution_count": 11,
   "metadata": {},
   "outputs": [
    {
     "data": {
      "text/plain": [
       "array([[1.22706255e-17, 4.12448254e-19, 7.71783240e-22, ...,\n",
       "        1.00000000e+00, 9.73126646e-09, 2.12927175e-21],\n",
       "       [7.26755411e-09, 9.96703088e-01, 2.52429744e-09, ...,\n",
       "        6.42531886e-05, 2.02754932e-03, 4.04942009e-12],\n",
       "       [3.00525135e-04, 8.24267864e-01, 4.66609548e-04, ...,\n",
       "        2.66498774e-02, 9.08464417e-02, 3.23855384e-05],\n",
       "       ...,\n",
       "       [1.00000000e+00, 0.00000000e+00, 4.60647888e-19, ...,\n",
       "        4.80584622e-35, 2.30598100e-23, 1.57206019e-26],\n",
       "       [1.78698767e-09, 9.93960619e-01, 5.60656935e-13, ...,\n",
       "        4.92420213e-07, 4.27847845e-05, 9.27573414e-15],\n",
       "       [1.40521383e-09, 5.14347586e-15, 9.99999404e-01, ...,\n",
       "        1.54366472e-12, 1.92018120e-11, 6.30964109e-07]], dtype=float32)"
      ]
     },
     "execution_count": 11,
     "metadata": {},
     "output_type": "execute_result"
    }
   ],
   "source": [
    "# predicting on test data.\n",
    "pred_test = new_model.predict(x_test)\n",
    "pred_test"
   ]
  },
  {
   "cell_type": "code",
   "execution_count": 12,
   "metadata": {
    "scrolled": false
   },
   "outputs": [],
   "source": [
    "y_pred = encoder.inverse_transform(pred_test)"
   ]
  },
  {
   "cell_type": "code",
   "execution_count": 13,
   "metadata": {},
   "outputs": [],
   "source": [
    "y_test = encoder.inverse_transform(y_test)\n"
   ]
  },
  {
   "cell_type": "code",
   "execution_count": 14,
   "metadata": {},
   "outputs": [
    {
     "data": {
      "text/html": [
       "<div>\n",
       "<style scoped>\n",
       "    .dataframe tbody tr th:only-of-type {\n",
       "        vertical-align: middle;\n",
       "    }\n",
       "\n",
       "    .dataframe tbody tr th {\n",
       "        vertical-align: top;\n",
       "    }\n",
       "\n",
       "    .dataframe thead th {\n",
       "        text-align: right;\n",
       "    }\n",
       "</style>\n",
       "<table border=\"1\" class=\"dataframe\">\n",
       "  <thead>\n",
       "    <tr style=\"text-align: right;\">\n",
       "      <th></th>\n",
       "      <th>Predicted Labels</th>\n",
       "      <th>Actual Labels</th>\n",
       "    </tr>\n",
       "  </thead>\n",
       "  <tbody>\n",
       "    <tr>\n",
       "      <th>0</th>\n",
       "      <td>neutral</td>\n",
       "      <td>neutral</td>\n",
       "    </tr>\n",
       "    <tr>\n",
       "      <th>1</th>\n",
       "      <td>calm</td>\n",
       "      <td>calm</td>\n",
       "    </tr>\n",
       "    <tr>\n",
       "      <th>2</th>\n",
       "      <td>calm</td>\n",
       "      <td>calm</td>\n",
       "    </tr>\n",
       "    <tr>\n",
       "      <th>3</th>\n",
       "      <td>neutral</td>\n",
       "      <td>neutral</td>\n",
       "    </tr>\n",
       "    <tr>\n",
       "      <th>4</th>\n",
       "      <td>fear</td>\n",
       "      <td>disgust</td>\n",
       "    </tr>\n",
       "    <tr>\n",
       "      <th>5</th>\n",
       "      <td>sad</td>\n",
       "      <td>sad</td>\n",
       "    </tr>\n",
       "    <tr>\n",
       "      <th>6</th>\n",
       "      <td>disgust</td>\n",
       "      <td>disgust</td>\n",
       "    </tr>\n",
       "    <tr>\n",
       "      <th>7</th>\n",
       "      <td>fear</td>\n",
       "      <td>fear</td>\n",
       "    </tr>\n",
       "    <tr>\n",
       "      <th>8</th>\n",
       "      <td>sad</td>\n",
       "      <td>sad</td>\n",
       "    </tr>\n",
       "    <tr>\n",
       "      <th>9</th>\n",
       "      <td>surprise</td>\n",
       "      <td>surprise</td>\n",
       "    </tr>\n",
       "  </tbody>\n",
       "</table>\n",
       "</div>"
      ],
      "text/plain": [
       "  Predicted Labels Actual Labels\n",
       "0          neutral       neutral\n",
       "1             calm          calm\n",
       "2             calm          calm\n",
       "3          neutral       neutral\n",
       "4             fear       disgust\n",
       "5              sad           sad\n",
       "6          disgust       disgust\n",
       "7             fear          fear\n",
       "8              sad           sad\n",
       "9         surprise      surprise"
      ]
     },
     "execution_count": 14,
     "metadata": {},
     "output_type": "execute_result"
    }
   ],
   "source": [
    "#check out the results on un seen data prediction \n",
    "df = pd.DataFrame(columns=['Predicted Labels', 'Actual Labels'])\n",
    "df['Predicted Labels'] = y_pred.flatten()\n",
    "df['Actual Labels'] = y_test.flatten()\n",
    "\n",
    "df.head(10)"
   ]
  },
  {
   "cell_type": "code",
   "execution_count": 15,
   "metadata": {},
   "outputs": [
    {
     "data": {
      "image/png": "[encoded data removed]",
      "text/plain": [
       "<Figure size 864x720 with 2 Axes>"
      ]
     },
     "metadata": {
      "needs_background": "light"
     },
     "output_type": "display_data"
    }
   ],
   "source": [
    "# the true positive and true negative are dark in colour= corect pred\n",
    "#the other lighter boxes are  fals positive and false negative = wrong pred\n",
    "cm = confusion_matrix(y_test, y_pred)\n",
    "plt.figure(figsize = (12, 10))\n",
    "cm = pd.DataFrame(cm , index = [i for i in encoder.categories_] , columns = [i for i in encoder.categories_])\n",
    "sns.heatmap(cm, linecolor='white', cmap='Blues', linewidth=1, annot=True, fmt='')\n",
    "plt.title('Confusion Matrix', size=20)\n",
    "plt.xlabel('Predicted Labels', size=14)\n",
    "plt.ylabel('Actual Labels', size=14)\n",
    "plt.show()"
   ]
  },
  {
   "cell_type": "code",
   "execution_count": 16,
   "metadata": {},
   "outputs": [
    {
     "name": "stdout",
     "output_type": "stream",
     "text": [
      "              precision    recall  f1-score   support\n",
      "\n",
      "       angry       0.91      0.88      0.89       585\n",
      "        calm       0.78      0.81      0.80       285\n",
      "     disgust       0.86      0.85      0.85       443\n",
      "        fear       0.83      0.83      0.83       583\n",
      "       happy       0.87      0.81      0.84       568\n",
      "     neutral       0.88      0.89      0.89       462\n",
      "         sad       0.81      0.83      0.82       553\n",
      "    surprise       0.84      0.90      0.87       460\n",
      "\n",
      "    accuracy                           0.85      3939\n",
      "   macro avg       0.85      0.85      0.85      3939\n",
      "weighted avg       0.85      0.85      0.85      3939\n",
      "\n"
     ]
    }
   ],
   "source": [
    "# creating the report of model traning accuracy for each labels \n",
    "print(classification_report(y_test, y_pred))"
   ]
  },
  {
   "cell_type": "code",
   "execution_count": 17,
   "metadata": {},
   "outputs": [],
   "source": [
    "from pydub import AudioSegment\n",
    "import wave\n",
    "import os\n",
    "import numpy as np\n",
    "import librosa\n",
    "import math\n",
    "import contextlib"
   ]
  },
  {
   "cell_type": "markdown",
   "metadata": {},
   "source": [
    "## to test another audio just bring the file in folder where code is present and change the Fname in below cell"
   ]
  },
  {
   "cell_type": "code",
   "execution_count": 18,
   "metadata": {},
   "outputs": [],
   "source": [
    "#here for the better animation we have splited the file in 1 sec segments and ploting the segments as 1 fps\n",
    "# loading the input audio file for spliting it into 3 sec  segments and saving it into the folder newAudio \n",
    "# it only accepts .wav files so if you have .mp3 convert it into .wav and add it into the same folder where is ipynb file\n",
    "fname = 'my_result.wav'\n",
    "with contextlib.closing(wave.open(fname,'r')) as f:\n",
    "    frames = f.getnframes()\n",
    "    rate = f.getframerate()\n",
    "    duration = frames / float(rate)\n",
    "Audio = AudioSegment.from_wav(fname)\n",
    "# Segmenting the audio file to small files of length 1 sec\n",
    "duration = math.floor(duration)\n",
    "for i in range(duration):\n",
    "  newAudio = Audio[i*1000:(i+1)*1000]\n",
    "  newAudio.export('./audio/'+str(i)+'.wav', format=\"wav\")"
   ]
  },
  {
   "cell_type": "code",
   "execution_count": 19,
   "metadata": {},
   "outputs": [],
   "source": [
    "# path to save segmented audio \n",
    "newAudio='.\\\\audio\\\\'"
   ]
  },
  {
   "cell_type": "code",
   "execution_count": 20,
   "metadata": {},
   "outputs": [],
   "source": [
    "# making dataframe of audio files with there path location . \n",
    "newAudio_directory_list = os.listdir(newAudio)\n",
    "file_path = []\n",
    "\n",
    "for file in newAudio_directory_list:\n",
    "    file_path.append(newAudio + file)\n",
    "\n",
    "# dataframe for path of files.\n",
    "data_path = pd.DataFrame(file_path, columns=['Path'])"
   ]
  },
  {
   "cell_type": "code",
   "execution_count": 21,
   "metadata": {},
   "outputs": [],
   "source": [
    "x = []\n",
    "for path, in zip(data_path.Path,):\n",
    "    data, sample_rate = librosa.load(path)\n",
    "    x.append(extract_features(data))\n",
    "    "
   ]
  },
  {
   "cell_type": "code",
   "execution_count": 22,
   "metadata": {
    "scrolled": false
   },
   "outputs": [],
   "source": [
    "# converting the features  array to data frame and saving it as csv file\n",
    "Feature = pd.DataFrame(x)"
   ]
  },
  {
   "cell_type": "code",
   "execution_count": 23,
   "metadata": {},
   "outputs": [],
   "source": [
    "x_ = Feature.values"
   ]
  },
  {
   "cell_type": "code",
   "execution_count": 24,
   "metadata": {},
   "outputs": [],
   "source": [
    "# scaling our data with sklearn's Standard scaler\n",
    "scaler = StandardScaler()\n",
    "x_ = scaler.fit_transform(x_)"
   ]
  },
  {
   "cell_type": "code",
   "execution_count": 25,
   "metadata": {},
   "outputs": [],
   "source": [
    "# Add a new dimention to the features array to be used by the cnn model\n",
    "x_ = np.expand_dims(x_, axis=2)\n",
    "y = new_model.predict(x_)"
   ]
  },
  {
   "cell_type": "code",
   "execution_count": 26,
   "metadata": {},
   "outputs": [],
   "source": [
    "y_pred = encoder.inverse_transform(y)"
   ]
  },
  {
   "cell_type": "code",
   "execution_count": 27,
   "metadata": {},
   "outputs": [],
   "source": [
    "pre_newAudio= y.tolist()"
   ]
  },
  {
   "cell_type": "code",
   "execution_count": 28,
   "metadata": {},
   "outputs": [],
   "source": [
    "import math\n",
    "import matplotlib.pyplot as plt\n",
    "from matplotlib import animation\n",
    "import moviepy.editor as mp\n",
    "import contextlib"
   ]
  },
  {
   "cell_type": "code",
   "execution_count": 29,
   "metadata": {},
   "outputs": [
    {
     "data": {
      "image/png": "[encoded data removed]",
      "text/plain": [
       "<Figure size 432x288 with 1 Axes>"
      ]
     },
     "metadata": {
      "needs_background": "light"
     },
     "output_type": "display_data"
    }
   ],
   "source": [
    "#Creating the animation\n",
    "fig=plt.figure()\n",
    "\n",
    "n=duration\n",
    "#Number of frames\n",
    "x=['angry', 'calm', 'happy', 'fear', 'disgust', 'neutral', 'sad','surprise']\n",
    "barcollection = plt.bar(x,[0,0,0,0,0,0,0,0])\n",
    "plt.ylim([0,1])\n",
    "def animate(i):\n",
    "    y=pre_newAudio[i]\n",
    "    for i, b in enumerate(barcollection):\n",
    "        b.set_height(y[i])\n",
    "anim=animation.FuncAnimation(fig,animate,repeat=False,blit=False,frames=n)\n",
    "\n",
    "anim.save('mymovie.mp4',writer=animation.FFMpegWriter(fps=1))\n",
    "plt.show()\n",
    "# this plot is not ploted correct bcs jupyter does not  support the requirments .\n",
    "# just visit to the file named output and see the animated results."
   ]
  },
  {
   "cell_type": "markdown",
   "metadata": {},
   "source": [
    "# # rename the audio clip here also as same as in fname in above .\n",
    "## change the name of audio file here also-- audio = mp.AudioFileClip(\"House_of_Commons_06-09-17_12-38-24.mp3\")\n"
   ]
  },
  {
   "cell_type": "code",
   "execution_count": 30,
   "metadata": {
    "scrolled": true
   },
   "outputs": [
    {
     "name": "stderr",
     "output_type": "stream",
     "text": [
      "\r",
      "chunk:   0%|          | 0/502 [00:00<?, ?it/s, now=None]"
     ]
    },
    {
     "name": "stdout",
     "output_type": "stream",
     "text": [
      "Moviepy - Building video output1.mp4.\n",
      "MoviePy - Writing audio in output1TEMP_MPY_wvf_snd.ogg\n"
     ]
    },
    {
     "name": "stderr",
     "output_type": "stream",
     "text": [
      "t:   0%|          | 0/22 [00:00<?, ?it/s, now=None]                 "
     ]
    },
    {
     "name": "stdout",
     "output_type": "stream",
     "text": [
      "MoviePy - Done.\n",
      "Moviepy - Writing video output1.mp4\n",
      "\n"
     ]
    },
    {
     "name": "stderr",
     "output_type": "stream",
     "text": [
      "                                                           "
     ]
    },
    {
     "name": "stdout",
     "output_type": "stream",
     "text": [
      "Moviepy - Done !\n",
      "Moviepy - video ready output1.mp4\n"
     ]
    },
    {
     "name": "stderr",
     "output_type": "stream",
     "text": [
      "\r"
     ]
    }
   ],
   "source": [
    "#Merging the animation with the audio\n",
    "audio = mp.AudioFileClip(\"my_result.mp3\")\n",
    "video1 = mp.VideoFileClip('mymovie.mp4')\n",
    "final = video1.set_audio(audio)\n",
    "final.write_videofile(\"output2.mp4\",codec= 'mpeg4' ,audio_codec='libvorbis')"
   ]
  },
  {
   "cell_type": "code",
   "execution_count": 31,
   "metadata": {},
   "outputs": [],
   "source": [
    "import os, re, os.path\n",
    "mypath = \"audio\"\n",
    "for root, dirs, files in os.walk(mypath):\n",
    "    for file in files:\n",
    "        os.remove(os.path.join(root, file))"
   ]
  },
  {
   "cell_type": "markdown",
   "metadata": {},
   "source": [
    "## play the file output.mp4 in players like VLC and MX ."
   ]
  }
 ],
 "metadata": {
  "kernelspec": {
   "display_name": "Python 3",
   "language": "python",
   "name": "python3"
  },
  "language_info": {
   "codemirror_mode": {
    "name": "ipython",
    "version": 3
   },
   "file_extension": ".py",
   "mimetype": "text/x-python",
   "name": "python",
   "nbconvert_exporter": "python",
   "pygments_lexer": "ipython3",
   "version": "3.8.8"
  }
 },
 "nbformat": 4,
 "nbformat_minor": 4
}
